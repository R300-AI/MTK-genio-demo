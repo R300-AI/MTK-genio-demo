{
 "cells": [
  {
   "cell_type": "markdown",
   "id": "3478c654",
   "metadata": {},
   "source": [
    "# MediaTek Genio AI 開發指南-2：TensorFlow Lite 模型效能測試\n",
    "\n",
    "## 🎯 關於這個筆記本\n",
    "這是一個完整的教學範例，教您如何在 MediaTek Genio SoC（系統晶片）上使用 NeuronRT 運行 AI 模型，並測量其效能。\n",
    "\n",
    "## 📚 背景知識：\n",
    "- **TensorFlow Lite**：Google 開發的輕量級 AI 推論框架，專為手機、嵌入式裝置設計，支援`.tflite`格式的AI模型。\n",
    "- **NeuronRT**：MediaTek 公司開發的神經網路推論引擎，可以加速推論框架背景的 AI計算工作\n",
    "- **MediaTek Genio SoC**：聯發科的 AI 處理器，內建與NeuronRT相容的DLA及VPU\n",
    "\n",
    "## 📋 您將學會：\n",
    "- 如何透過TFLite Runtime載入和配置 AI 模型\n",
    "- 如何使用 NeuronRT於DLA 或 VPU 上進行 AI 推論加速\n",
    "- 如何測量 AI 模型的執行速度和記憶體使用量\n",
    "- 如何將這些技術整合到您的應用程式中"
   ]
  },
  {
   "cell_type": "markdown",
   "id": "29a4991a",
   "metadata": {},
   "source": [
    "## 1. 環境設置\n",
    "\n",
    "我們需要切換到專案的根目錄，這樣程式才能找到模型檔案和其他必要的資源。"
   ]
  },
  {
   "cell_type": "code",
   "execution_count": null,
   "id": "3dcd8bee-7d7c-47a1-961a-170560b2cb28",
   "metadata": {},
   "outputs": [],
   "source": [
    "% cd .."
   ]
  },
  {
   "cell_type": "markdown",
   "id": "500b62e2",
   "metadata": {},
   "source": [
    "## 2. 匯入必要程式庫\n",
    "\n",
    "載入Tensorflow及 Python 程式庫來處理 AI 推論的工作流程。"
   ]
  },
  {
   "cell_type": "code",
   "execution_count": null,
   "id": "7d29c8be",
   "metadata": {},
   "outputs": [],
   "source": [
    "import time, warnings, os\n",
    "import numpy as np\n",
    "from tqdm import tqdm\n",
    "from utils.neuronpilot.neuronrt import Interpreter\n",
    "warnings.simplefilter('ignore')\n",
    "\n",
    "print(f\"NumPy 版本: {np.__version__}\")"
   ]
  },
  {
   "cell_type": "markdown",
   "id": "11b02a79",
   "metadata": {},
   "source": [
    "## 3. 設定測試參數\n",
    "\n",
    "根據您的 Genio 平台及測試需求，設定要使用的加速器、AI模型以及測試參數。\n",
    "\n",
    "### 📋 參數說明：\n",
    "- **device**：加速器類型，支援多種選項：\n",
    "  - `mdla3.0`：適用於 Genio 510/700，使用 MDLA v3.0\n",
    "  - `mdla2.0`：適用於 Genio 1200，使用 MDLA v2.0  \n",
    "  - `vpu`：使用 VPU 加速器進行推理\n",
    "- **tflite_path**：TensorFlow Lite 模型檔案路徑（用於取得模型資訊）\n",
    "- **dla_path**：編譯好的 DLA 模型檔案路徑（用於實際推理）\n",
    "\n",
    "> **🔧 如何取得 DLA 模型：**\n",
    "> \n",
    "> 您可以透過工研院提供的 [NeuronPilot Porting Platform](https://neuronpilot-ai-porting-platform.azurewebsites.net/) 線上平台，將您的 TensorFlow Lite 模型轉換為 DLA 格式：<br>**[NeuronPilot Platform]** > **[Upload Prebuilt Model]** > **[選擇 TFLite 模型]** > **[Upload and Verify Model]** > **[選擇開發板與 Device]**> **[Download DLA]**"
   ]
  },
  {
   "cell_type": "code",
   "execution_count": null,
   "id": "be7ccd37",
   "metadata": {},
   "outputs": [],
   "source": [
    "device = 'mdla3.0'\n",
    "tflite_path = \"models/yolov8n_float32.tflite\"\n",
    "dla_path = \"models/yolov8n_float32_mdla3.dla\""
   ]
  },
  {
   "cell_type": "markdown",
   "id": "2c99be2e",
   "metadata": {},
   "source": [
    "## 4. 建立 NeuronRT Interpreter\n",
    "\n",
    "使用我們自訂的 `utils.neuronpilot.neuronrt.Interpreter` 類別建立NeuronRT 解釋器。"
   ]
  },
  {
   "cell_type": "code",
   "execution_count": null,
   "id": "60221feb",
   "metadata": {},
   "outputs": [],
   "source": [
    "from utils.neuronpilot.neuronrt import Interpreter\n",
    "\n",
    "interpreter = Interpreter(\n",
    "    tflite_path=tflite_path, \n",
    "    dla_path=dla_path, \n",
    "    device=device\n",
    ")\n",
    "\n",
    "print(\"✅ utils.neuronpilot.neuronrt.Interpreter 建立完成\")\n",
    "print(f\"🔧 使用加速器: {device.upper()}\")"
   ]
  },
  {
   "cell_type": "markdown",
   "id": "052a68ea",
   "metadata": {},
   "source": [
    "## 5. 初始化 NeuronRT 解釋器\n",
    "\n",
    "建立 NeuronRT 解釋器並配置 AI 模型。\n",
    "1. 分配模型所需的記憶體空間\n",
    "2. 載入 DLA 模型到指定的加速器\n",
    "3. 取得模型的輸入和輸出資訊"
   ]
  },
  {
   "cell_type": "code",
   "execution_count": null,
   "id": "1ec60b37-bf52-4454-8c27-0737fc18c48d",
   "metadata": {},
   "outputs": [],
   "source": [
    "interpreter.allocate_tensors()\n",
    "\n",
    "input_details = interpreter.get_input_details()\n",
    "output_details = interpreter.get_output_details()\n",
    "input_shape = input_details[0]['shape']\n",
    "input_dtype = input_details[0]['dtype']\n",
    "\n",
    "print(\"📋 模型資訊:\")\n",
    "print(f\"   輸入形狀: {input_details[0]['shape']}\")\n",
    "print(f\"   資料型態: {input_details[0]['dtype']}\")\n",
    "print(f\"   輸出形狀: {output_details[0]['shape']}\")\n",
    "print(f\"   資料型態: {output_details[0]['dtype']}\")"
   ]
  },
  {
   "cell_type": "markdown",
   "id": "4e844b98",
   "metadata": {},
   "source": [
    "## 6. 準備輸入資料\n",
    "\n",
    "為 AI 模型準備測試用的輸入資料。\n",
    "1. 根據模型要求的形狀產生隨機數字陣列\n",
    "2. 轉換資料型態以符合模型規格\n",
    "3. 將準備好的資料送入模型"
   ]
  },
  {
   "cell_type": "code",
   "execution_count": null,
   "id": "0f238f15",
   "metadata": {},
   "outputs": [],
   "source": [
    "inputs = np.random.rand(*input_details[0]['shape']).astype(input_details[0]['dtype'])\n",
    "\n",
    "print(f\"📊 測試資料形狀: {inputs.shape}\")\n",
    "print(f\"📊 測試資料型別: {inputs.dtype}\")\n",
    "print(f\"📊 測試資料範圍: [{inputs.min():.3f}, {inputs.max():.3f}]\")\n",
    "\n",
    "interpreter.set_tensor(0, inputs)"
   ]
  },
  {
   "cell_type": "markdown",
   "id": "0f28ed52",
   "metadata": {},
   "source": [
    "## 7. 執行效能基準測試\n",
    "\n",
    "執行多次推論來測量模型的平均效能。\n",
    "1. 設定測試的執行次數\n",
    "2. 記錄每次推論的執行時間\n",
    "3. 計算平均效能和吞吐量"
   ]
  },
  {
   "cell_type": "code",
   "execution_count": null,
   "id": "3a1297cf",
   "metadata": {},
   "outputs": [],
   "source": [
    "iteration = 10\n",
    "print(f\"開始執行 {iteration} 次推論測試...\")\n",
    "inference_start_time = time.time()\n",
    "\n",
    "for i in tqdm(range(iteration), desc=\"推論進度\", unit=\"次\"):\n",
    "    interpreter.invoke()\n",
    "\n",
    "inference_end_time = time.time()\n",
    "outputs = interpreter.get_tensor(output_details[0]['index'])"
   ]
  },
  {
   "cell_type": "markdown",
   "id": "989f8bea",
   "metadata": {},
   "source": [
    "## 7. 顯示測試結果\n",
    "\n",
    "計算並顯示 AI 模型的效能指標。\n",
    "1. 計算平均單次推論時間（毫秒）\n",
    "2. 計算推論吞吐量（每秒處理次數）\n",
    "3. 以表格格式顯示完整的效能報告"
   ]
  },
  {
   "cell_type": "code",
   "execution_count": null,
   "id": "f4ff612f",
   "metadata": {},
   "outputs": [],
   "source": [
    "total_inference_time = inference_end_time - inference_start_time\n",
    "avg_inference_time_ms = total_inference_time * 1000 / iteration\n",
    "\n",
    "print('=' * 50)\n",
    "print('TensorFlow Lite 模型效能測試結果')\n",
    "print('=' * 50)\n",
    "print(f'單次推論時間: {avg_inference_time_ms:.2f} ms')\n",
    "print(f'推論吞吐量: {1000 / avg_inference_time_ms:.2f} FPS')\n",
    "print('=' * 50)"
   ]
  },
  {
   "cell_type": "markdown",
   "id": "caeb6f1c-0dbf-4d94-8917-c44d673beb2e",
   "metadata": {},
   "source": [
    "## 9. 整合到實際應用\n",
    "\n",
    "您可以參考以下的程式範例，將ArmNN加速方案整合到您的AI工作流程中。\n",
    "\n",
    "```python\n",
    "from utils.neuronpilot.neuronrt import Interpreter\n",
    "\n",
    "interpreter = Interpreter(\n",
    "    tflite_path=\"<path_to your_tflite_model>\", \n",
    "    dla_path=\"<path_to_your_dla_model>\",       \n",
    "    device= \"<mdla3.0, mdla2.0 or vpu>\"\n",
    ")\n",
    "\n",
    "interpreter.allocate_tensors()\n",
    "input_details = interpreter.get_input_details()\n",
    "output_details = interpreter.get_output_details()\n",
    "\n",
    "interpreter.set_tensor(0, test_input)\n",
    "interpreter.invoke()\n",
    "output = interpreter.get_tensor(0)\n",
    "```"
   ]
  }
 ],
 "metadata": {
  "kernelspec": {
   "display_name": "Python 3",
   "language": "python",
   "name": "python3"
  }
 },
 "nbformat": 4,
 "nbformat_minor": 5
}
